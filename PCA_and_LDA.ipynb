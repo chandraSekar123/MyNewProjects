{
  "nbformat": 4,
  "nbformat_minor": 0,
  "metadata": {
    "colab": {
      "name": "PCA and LDA.ipynb",
      "provenance": [],
      "authorship_tag": "ABX9TyNAej78FgQEBY2uXInuPLtL",
      "include_colab_link": true
    },
    "kernelspec": {
      "name": "python3",
      "display_name": "Python 3"
    }
  },
  "cells": [
    {
      "cell_type": "markdown",
      "metadata": {
        "id": "view-in-github",
        "colab_type": "text"
      },
      "source": [
        "<a href=\"https://colab.research.google.com/github/chandraSekar123/MyNewProjects/blob/master/PCA_and_LDA.ipynb\" target=\"_parent\"><img src=\"https://colab.research.google.com/assets/colab-badge.svg\" alt=\"Open In Colab\"/></a>"
      ]
    },
    {
      "cell_type": "code",
      "metadata": {
        "id": "Z-nMDR227nU-",
        "colab_type": "code",
        "colab": {}
      },
      "source": [
        ""
      ],
      "execution_count": 0,
      "outputs": []
    },
    {
      "cell_type": "markdown",
      "metadata": {
        "id": "aoy872FM72S4",
        "colab_type": "text"
      },
      "source": [
        "\n",
        "# http://www.bogotobogo.com/python/scikit-learn/scikit_machine_learning_Data_Compresssion_via_Dimensionality_Reduction_1_Principal_component_analysis _PCA.php"
      ]
    },
    {
      "cell_type": "code",
      "metadata": {
        "id": "cD1f0jK872zf",
        "colab_type": "code",
        "colab": {
          "base_uri": "https://localhost:8080/",
          "height": 34
        },
        "outputId": "7366c453-91fc-4d09-8edd-504c4884168f"
      },
      "source": [
        "%pylab inline\n"
      ],
      "execution_count": 1,
      "outputs": [
        {
          "output_type": "stream",
          "text": [
            "Populating the interactive namespace from numpy and matplotlib\n"
          ],
          "name": "stdout"
        }
      ]
    },
    {
      "cell_type": "code",
      "metadata": {
        "id": "PuBYQn1d75zD",
        "colab_type": "code",
        "colab": {}
      },
      "source": [
        "import pandas as pd\n",
        "\n",
        "df_wine = pd.read_csv(\n",
        "    'https://archive.ics.uci.edu/ml/machine-learning-databases/wine/wine.data', \n",
        "    header=None)"
      ],
      "execution_count": 0,
      "outputs": []
    },
    {
      "cell_type": "code",
      "metadata": {
        "id": "wHmpK5Jm783t",
        "colab_type": "code",
        "colab": {
          "base_uri": "https://localhost:8080/",
          "height": 204
        },
        "outputId": "3241b578-a519-4b6b-bf89-62ad9f7bdb99"
      },
      "source": [
        "df_wine.head()\n"
      ],
      "execution_count": 3,
      "outputs": [
        {
          "output_type": "execute_result",
          "data": {
            "text/html": [
              "<div>\n",
              "<style scoped>\n",
              "    .dataframe tbody tr th:only-of-type {\n",
              "        vertical-align: middle;\n",
              "    }\n",
              "\n",
              "    .dataframe tbody tr th {\n",
              "        vertical-align: top;\n",
              "    }\n",
              "\n",
              "    .dataframe thead th {\n",
              "        text-align: right;\n",
              "    }\n",
              "</style>\n",
              "<table border=\"1\" class=\"dataframe\">\n",
              "  <thead>\n",
              "    <tr style=\"text-align: right;\">\n",
              "      <th></th>\n",
              "      <th>0</th>\n",
              "      <th>1</th>\n",
              "      <th>2</th>\n",
              "      <th>3</th>\n",
              "      <th>4</th>\n",
              "      <th>5</th>\n",
              "      <th>6</th>\n",
              "      <th>7</th>\n",
              "      <th>8</th>\n",
              "      <th>9</th>\n",
              "      <th>10</th>\n",
              "      <th>11</th>\n",
              "      <th>12</th>\n",
              "      <th>13</th>\n",
              "    </tr>\n",
              "  </thead>\n",
              "  <tbody>\n",
              "    <tr>\n",
              "      <th>0</th>\n",
              "      <td>1</td>\n",
              "      <td>14.23</td>\n",
              "      <td>1.71</td>\n",
              "      <td>2.43</td>\n",
              "      <td>15.6</td>\n",
              "      <td>127</td>\n",
              "      <td>2.80</td>\n",
              "      <td>3.06</td>\n",
              "      <td>0.28</td>\n",
              "      <td>2.29</td>\n",
              "      <td>5.64</td>\n",
              "      <td>1.04</td>\n",
              "      <td>3.92</td>\n",
              "      <td>1065</td>\n",
              "    </tr>\n",
              "    <tr>\n",
              "      <th>1</th>\n",
              "      <td>1</td>\n",
              "      <td>13.20</td>\n",
              "      <td>1.78</td>\n",
              "      <td>2.14</td>\n",
              "      <td>11.2</td>\n",
              "      <td>100</td>\n",
              "      <td>2.65</td>\n",
              "      <td>2.76</td>\n",
              "      <td>0.26</td>\n",
              "      <td>1.28</td>\n",
              "      <td>4.38</td>\n",
              "      <td>1.05</td>\n",
              "      <td>3.40</td>\n",
              "      <td>1050</td>\n",
              "    </tr>\n",
              "    <tr>\n",
              "      <th>2</th>\n",
              "      <td>1</td>\n",
              "      <td>13.16</td>\n",
              "      <td>2.36</td>\n",
              "      <td>2.67</td>\n",
              "      <td>18.6</td>\n",
              "      <td>101</td>\n",
              "      <td>2.80</td>\n",
              "      <td>3.24</td>\n",
              "      <td>0.30</td>\n",
              "      <td>2.81</td>\n",
              "      <td>5.68</td>\n",
              "      <td>1.03</td>\n",
              "      <td>3.17</td>\n",
              "      <td>1185</td>\n",
              "    </tr>\n",
              "    <tr>\n",
              "      <th>3</th>\n",
              "      <td>1</td>\n",
              "      <td>14.37</td>\n",
              "      <td>1.95</td>\n",
              "      <td>2.50</td>\n",
              "      <td>16.8</td>\n",
              "      <td>113</td>\n",
              "      <td>3.85</td>\n",
              "      <td>3.49</td>\n",
              "      <td>0.24</td>\n",
              "      <td>2.18</td>\n",
              "      <td>7.80</td>\n",
              "      <td>0.86</td>\n",
              "      <td>3.45</td>\n",
              "      <td>1480</td>\n",
              "    </tr>\n",
              "    <tr>\n",
              "      <th>4</th>\n",
              "      <td>1</td>\n",
              "      <td>13.24</td>\n",
              "      <td>2.59</td>\n",
              "      <td>2.87</td>\n",
              "      <td>21.0</td>\n",
              "      <td>118</td>\n",
              "      <td>2.80</td>\n",
              "      <td>2.69</td>\n",
              "      <td>0.39</td>\n",
              "      <td>1.82</td>\n",
              "      <td>4.32</td>\n",
              "      <td>1.04</td>\n",
              "      <td>2.93</td>\n",
              "      <td>735</td>\n",
              "    </tr>\n",
              "  </tbody>\n",
              "</table>\n",
              "</div>"
            ],
            "text/plain": [
              "   0      1     2     3     4    5   ...    8     9     10    11    12    13\n",
              "0   1  14.23  1.71  2.43  15.6  127  ...  0.28  2.29  5.64  1.04  3.92  1065\n",
              "1   1  13.20  1.78  2.14  11.2  100  ...  0.26  1.28  4.38  1.05  3.40  1050\n",
              "2   1  13.16  2.36  2.67  18.6  101  ...  0.30  2.81  5.68  1.03  3.17  1185\n",
              "3   1  14.37  1.95  2.50  16.8  113  ...  0.24  2.18  7.80  0.86  3.45  1480\n",
              "4   1  13.24  2.59  2.87  21.0  118  ...  0.39  1.82  4.32  1.04  2.93   735\n",
              "\n",
              "[5 rows x 14 columns]"
            ]
          },
          "metadata": {
            "tags": []
          },
          "execution_count": 3
        }
      ]
    },
    {
      "cell_type": "code",
      "metadata": {
        "id": "KijIajPs7-M-",
        "colab_type": "code",
        "colab": {}
      },
      "source": [
        "from sklearn.model_selection import train_test_split\n",
        "from sklearn.preprocessing import StandardScaler\n",
        "X, y = df_wine.iloc[:, 1:].values, df_wine.iloc[:, 0].values\n",
        "X_train, X_test, y_train, y_test = \\\n",
        "     train_test_split(X, y, test_size=0.3, random_state=0)\n",
        "sc = StandardScaler()\n",
        "X_train_std = sc.fit_transform(X_train)\n",
        "X_test_std = sc.fit_transform(X_test)"
      ],
      "execution_count": 0,
      "outputs": []
    },
    {
      "cell_type": "code",
      "metadata": {
        "id": "YTgdphTx7_yy",
        "colab_type": "code",
        "colab": {}
      },
      "source": [
        "covariant_matrix = np.cov(X_train_std.T)\n"
      ],
      "execution_count": 0,
      "outputs": []
    },
    {
      "cell_type": "code",
      "metadata": {
        "id": "5F0szlSU8BFL",
        "colab_type": "code",
        "colab": {
          "base_uri": "https://localhost:8080/",
          "height": 170
        },
        "outputId": "52a8f0ea-d0dd-41f4-dbc2-9200dc0c9c2a"
      },
      "source": [
        "covariant_matrix[0::5]\n"
      ],
      "execution_count": 6,
      "outputs": [
        {
          "output_type": "execute_result",
          "data": {
            "text/plain": [
              "array([[ 1.00813008,  0.08797701,  0.23066952, -0.32868099,  0.2141631 ,\n",
              "         0.35576761,  0.2991246 , -0.16913744,  0.09649074,  0.56962271,\n",
              "        -0.04781543,  0.07403492,  0.63277882],\n",
              "       [ 0.35576761, -0.30124242,  0.12235533, -0.37018442,  0.16513295,\n",
              "         1.00813008,  0.88119961, -0.45396901,  0.6196806 , -0.06935051,\n",
              "         0.45718802,  0.72214462,  0.56326772],\n",
              "       [-0.04781543, -0.54992807, -0.10928021, -0.25313262,  0.05792599,\n",
              "         0.45718802,  0.58331869, -0.3178224 ,  0.32282167, -0.52395358,\n",
              "         1.00813008,  0.60022569,  0.2452794 ]])"
            ]
          },
          "metadata": {
            "tags": []
          },
          "execution_count": 6
        }
      ]
    },
    {
      "cell_type": "code",
      "metadata": {
        "id": "BoBvQnDM8CtF",
        "colab_type": "code",
        "colab": {}
      },
      "source": [
        "eigen_values, eigen_vectors = np.linalg.eig(covariant_matrix)\n"
      ],
      "execution_count": 0,
      "outputs": []
    },
    {
      "cell_type": "code",
      "metadata": {
        "id": "kEcL-LJy8JOf",
        "colab_type": "code",
        "colab": {
          "base_uri": "https://localhost:8080/",
          "height": 68
        },
        "outputId": "421245a0-6aec-42f2-dd8d-7334b933310e"
      },
      "source": [
        "eigen_values"
      ],
      "execution_count": 9,
      "outputs": [
        {
          "output_type": "execute_result",
          "data": {
            "text/plain": [
              "array([4.8923083 , 2.46635032, 1.42809973, 1.01233462, 0.84906459,\n",
              "       0.60181514, 0.52251546, 0.08414846, 0.33051429, 0.29595018,\n",
              "       0.16831254, 0.21432212, 0.2399553 ])"
            ]
          },
          "metadata": {
            "tags": []
          },
          "execution_count": 9
        }
      ]
    },
    {
      "cell_type": "code",
      "metadata": {
        "id": "PnactBjd8M2T",
        "colab_type": "code",
        "colab": {
          "base_uri": "https://localhost:8080/",
          "height": 1000
        },
        "outputId": "03cb99e7-e154-4ba3-bb28-a9ed1d93a752"
      },
      "source": [
        "eigen_vectors"
      ],
      "execution_count": 10,
      "outputs": [
        {
          "output_type": "execute_result",
          "data": {
            "text/plain": [
              "array([[ 1.46698114e-01,  5.04170789e-01, -1.17235150e-01,\n",
              "         2.06254611e-01, -1.87815947e-01, -1.48851318e-01,\n",
              "        -1.79263662e-01, -5.54687162e-02, -4.03054922e-01,\n",
              "        -4.17197583e-01,  2.75660860e-01,  4.03567189e-01,\n",
              "         4.13320786e-04],\n",
              "       [-2.42245536e-01,  2.42168894e-01,  1.49946576e-01,\n",
              "         1.30489298e-01,  5.68639776e-01, -2.69052764e-01,\n",
              "        -5.92636731e-01,  3.32731614e-02, -1.01833706e-01,\n",
              "         2.17101488e-01, -8.13845005e-02, -1.52474999e-01,\n",
              "        -8.78560762e-02],\n",
              "       [-2.99344215e-02,  2.86984836e-01,  6.56394387e-01,\n",
              "         1.51536318e-02, -2.99209426e-01, -9.33386061e-02,\n",
              "         6.07334578e-02, -1.00618575e-01,  3.51841423e-01,\n",
              "         1.28549846e-01, -1.29751275e-02,  1.68376064e-01,\n",
              "        -4.52518598e-01],\n",
              "       [-2.55190023e-01, -6.46871827e-02,  5.84282337e-01,\n",
              "        -9.04220851e-02, -4.12499478e-02, -1.01342392e-01,\n",
              "         2.50323869e-01,  5.61658566e-02, -5.00457282e-01,\n",
              "         4.73344124e-02,  9.89088030e-02, -6.70902927e-02,\n",
              "         4.86169765e-01],\n",
              "       [ 1.20797723e-01,  2.29953850e-01,  8.22627466e-02,\n",
              "        -8.39128346e-01, -2.71971315e-02,  1.12567350e-01,\n",
              "        -2.85240559e-01,  9.58423947e-02,  8.37391743e-02,\n",
              "        -2.78918776e-01, -9.59297663e-02, -1.02396856e-01,\n",
              "         1.14764951e-01],\n",
              "       [ 3.89344551e-01,  9.36399132e-02,  1.80804417e-01,\n",
              "         1.93179478e-01,  1.40645426e-01,  1.22248798e-02,\n",
              "         5.31455344e-02, -4.21265116e-01,  1.35111456e-01,\n",
              "        -2.80985650e-01,  2.83897644e-01, -6.18600153e-01,\n",
              "         9.45645138e-02],\n",
              "       [ 4.23264856e-01,  1.08862204e-02,  1.42959330e-01,\n",
              "         1.40459548e-01,  9.26866486e-02, -5.50345182e-02,\n",
              "         7.98994076e-02,  8.47224703e-01,  3.36016514e-03,\n",
              "        -3.91442963e-02,  1.16729207e-01, -1.39680277e-01,\n",
              "        -1.00444099e-01],\n",
              "       [-3.06349555e-01,  1.87021637e-02,  1.72234753e-01,\n",
              "         3.37332618e-01, -8.58416771e-02,  6.95340883e-01,\n",
              "        -2.97371718e-01,  1.66256803e-01,  1.90120758e-01,\n",
              "        -2.78622194e-01, -3.96566280e-02,  1.63323514e-03,\n",
              "         2.00128778e-01],\n",
              "       [ 3.05722194e-01,  3.04035180e-02,  1.58362102e-01,\n",
              "        -1.14752900e-01,  5.65105241e-01,  4.98354410e-01,\n",
              "         2.02519133e-01, -1.66197468e-01, -1.76029939e-01,\n",
              "         1.48539457e-01,  8.60602743e-02,  3.88568490e-01,\n",
              "        -1.39942067e-01],\n",
              "       [-9.86919131e-02,  5.45270809e-01, -1.42421708e-01,\n",
              "         7.87857057e-02,  1.32346052e-02,  1.59452160e-01,\n",
              "         3.97364107e-01,  3.96173606e-02, -2.14930670e-01,\n",
              "        -4.10240865e-03, -5.71651893e-01, -3.08345904e-01,\n",
              "        -1.15349466e-01],\n",
              "       [ 3.00325353e-01, -2.79243218e-01,  9.32387182e-02,\n",
              "         2.41740256e-02, -3.72610811e-01,  2.16515349e-01,\n",
              "        -3.84654748e-01, -1.05383688e-01, -5.17259438e-01,\n",
              "         1.97814118e-01, -1.98844532e-01, -2.00456386e-01,\n",
              "        -3.02254353e-01],\n",
              "       [ 3.68211538e-01, -1.74365000e-01,  1.96077407e-01,\n",
              "         1.84028641e-01,  8.93796748e-02, -2.35172361e-01,\n",
              "        -8.62903341e-02, -9.95055559e-02,  1.36456039e-01,\n",
              "        -2.38138151e-01, -6.50869713e-01,  2.84100327e-01,\n",
              "         3.18414303e-01],\n",
              "       [ 2.92597130e-01,  3.63154608e-01, -9.73171134e-02,\n",
              "         5.67677845e-02, -2.17529485e-01,  1.05621383e-01,\n",
              "        -1.30298291e-01, -1.60661776e-02,  1.67758429e-01,\n",
              "         6.37350206e-01,  7.12377082e-02,  3.75546771e-02,\n",
              "         5.03247839e-01]])"
            ]
          },
          "metadata": {
            "tags": []
          },
          "execution_count": 10
        }
      ]
    },
    {
      "cell_type": "code",
      "metadata": {
        "id": "ges2ee7a8VtF",
        "colab_type": "code",
        "colab": {
          "base_uri": "https://localhost:8080/",
          "height": 279
        },
        "outputId": "03dbe821-3919-4aa8-f416-01ef7abc1a9c"
      },
      "source": [
        "\n",
        "tot = sum(eigen_values)\n",
        "var_exp = [(i / tot) for i in sorted(eigen_values, reverse=True)]\n",
        "cum_var_exp = np.cumsum(var_exp)\n",
        "\n",
        "bar(range(1,14), var_exp, alpha=0.5, align='center',\n",
        "                  label='individual explained variance')\n",
        "step(range(1,14), cum_var_exp, where='mid',\n",
        "                  label='cumulative explained variance')\n",
        "ylabel('Explained variance ratio')\n",
        "xlabel('Principal components')\n",
        "legend(loc='best')\n",
        "show()"
      ],
      "execution_count": 11,
      "outputs": [
        {
          "output_type": "display_data",
          "data": {
            "image/png": "[encoded data removed]",
            "text/plain": [
              "<Figure size 432x288 with 1 Axes>"
            ]
          },
          "metadata": {
            "tags": [],
            "needs_background": "light"
          }
        }
      ]
    },
    {
      "cell_type": "code",
      "metadata": {
        "id": "HVzWaX-a8cHQ",
        "colab_type": "code",
        "colab": {}
      },
      "source": [
        "eigen_pairs = \\\n",
        "[(np.abs(eigen_values[i]),eigen_vectors[:,i]) for i in range(len(eigen_values))]\n",
        "eigen_pairs.sort(reverse=True)"
      ],
      "execution_count": 0,
      "outputs": []
    },
    {
      "cell_type": "code",
      "metadata": {
        "id": "EhZUodlr8j6V",
        "colab_type": "code",
        "colab": {
          "base_uri": "https://localhost:8080/",
          "height": 357
        },
        "outputId": "c84fc802-224f-49db-de8e-f970969c96dd"
      },
      "source": [
        "eigen_pairs[:5]\n"
      ],
      "execution_count": 13,
      "outputs": [
        {
          "output_type": "execute_result",
          "data": {
            "text/plain": [
              "[(4.8923083032737456,\n",
              "  array([ 0.14669811, -0.24224554, -0.02993442, -0.25519002,  0.12079772,\n",
              "          0.38934455,  0.42326486, -0.30634956,  0.30572219, -0.09869191,\n",
              "          0.30032535,  0.36821154,  0.29259713])),\n",
              " (2.46635031575923,\n",
              "  array([ 0.50417079,  0.24216889,  0.28698484, -0.06468718,  0.22995385,\n",
              "          0.09363991,  0.01088622,  0.01870216,  0.03040352,  0.54527081,\n",
              "         -0.27924322, -0.174365  ,  0.36315461])),\n",
              " (1.4280997275048444,\n",
              "  array([-0.11723515,  0.14994658,  0.65639439,  0.58428234,  0.08226275,\n",
              "          0.18080442,  0.14295933,  0.17223475,  0.1583621 , -0.14242171,\n",
              "          0.09323872,  0.19607741, -0.09731711])),\n",
              " (1.0123346209044952,\n",
              "  array([ 0.20625461,  0.1304893 ,  0.01515363, -0.09042209, -0.83912835,\n",
              "          0.19317948,  0.14045955,  0.33733262, -0.1147529 ,  0.07878571,\n",
              "          0.02417403,  0.18402864,  0.05676778])),\n",
              " (0.8490645933450259,\n",
              "  array([-0.18781595,  0.56863978, -0.29920943, -0.04124995, -0.02719713,\n",
              "          0.14064543,  0.09268665, -0.08584168,  0.56510524,  0.01323461,\n",
              "         -0.37261081,  0.08937967, -0.21752948]))]"
            ]
          },
          "metadata": {
            "tags": []
          },
          "execution_count": 13
        }
      ]
    },
    {
      "cell_type": "code",
      "metadata": {
        "id": "FJCHJD2f8lUB",
        "colab_type": "code",
        "colab": {
          "base_uri": "https://localhost:8080/",
          "height": 34
        },
        "outputId": "4f6599c9-cab6-418b-a44c-6e1e2e0a2dfe"
      },
      "source": [
        "\n",
        "w= np.hstack((eigen_pairs[0][1][:, np.newaxis], eigen_pairs[1][1][:, np.newaxis]))\n",
        "w.shape"
      ],
      "execution_count": 14,
      "outputs": [
        {
          "output_type": "execute_result",
          "data": {
            "text/plain": [
              "(13, 2)"
            ]
          },
          "metadata": {
            "tags": []
          },
          "execution_count": 14
        }
      ]
    },
    {
      "cell_type": "code",
      "metadata": {
        "id": "Jq_D1JZ_8m4q",
        "colab_type": "code",
        "colab": {
          "base_uri": "https://localhost:8080/",
          "height": 238
        },
        "outputId": "a78300cf-5b44-485d-911e-afb85f7e5c36"
      },
      "source": [
        "w\n"
      ],
      "execution_count": 15,
      "outputs": [
        {
          "output_type": "execute_result",
          "data": {
            "text/plain": [
              "array([[ 0.14669811,  0.50417079],\n",
              "       [-0.24224554,  0.24216889],\n",
              "       [-0.02993442,  0.28698484],\n",
              "       [-0.25519002, -0.06468718],\n",
              "       [ 0.12079772,  0.22995385],\n",
              "       [ 0.38934455,  0.09363991],\n",
              "       [ 0.42326486,  0.01088622],\n",
              "       [-0.30634956,  0.01870216],\n",
              "       [ 0.30572219,  0.03040352],\n",
              "       [-0.09869191,  0.54527081],\n",
              "       [ 0.30032535, -0.27924322],\n",
              "       [ 0.36821154, -0.174365  ],\n",
              "       [ 0.29259713,  0.36315461]])"
            ]
          },
          "metadata": {
            "tags": []
          },
          "execution_count": 15
        }
      ]
    },
    {
      "cell_type": "code",
      "metadata": {
        "id": "MT4We2248oXS",
        "colab_type": "code",
        "colab": {
          "base_uri": "https://localhost:8080/",
          "height": 68
        },
        "outputId": "6ba434e7-cd57-4802-8126-2923e986a0ef"
      },
      "source": [
        "X_train_std[0]\n"
      ],
      "execution_count": 16,
      "outputs": [
        {
          "output_type": "execute_result",
          "data": {
            "text/plain": [
              "array([ 0.91083058, -0.46259897, -0.01142613, -0.82067872,  0.06241693,\n",
              "        0.58820446,  0.93565436, -0.7619138 ,  0.13007174, -0.51238741,\n",
              "        0.65706596,  1.94354495,  0.93700997])"
            ]
          },
          "metadata": {
            "tags": []
          },
          "execution_count": 16
        }
      ]
    },
    {
      "cell_type": "code",
      "metadata": {
        "id": "scr_Ty0s8qni",
        "colab_type": "code",
        "colab": {
          "base_uri": "https://localhost:8080/",
          "height": 34
        },
        "outputId": "f390050d-3eac-4575-a11c-542f13274cf2"
      },
      "source": [
        "X_train_std[0].dot(w)\n"
      ],
      "execution_count": 17,
      "outputs": [
        {
          "output_type": "execute_result",
          "data": {
            "text/plain": [
              "array([2.59891628, 0.00484089])"
            ]
          },
          "metadata": {
            "tags": []
          },
          "execution_count": 17
        }
      ]
    },
    {
      "cell_type": "code",
      "metadata": {
        "id": "2HT11OwS8rxp",
        "colab_type": "code",
        "colab": {
          "base_uri": "https://localhost:8080/",
          "height": 34
        },
        "outputId": "798a46cf-c7f7-4ebf-dfc7-838ad9b4e4f5"
      },
      "source": [
        "\n",
        "X_train_pca = X_train_std.dot(w)\n",
        "X_train_std.shape, w.shape, X_train_pca.shape"
      ],
      "execution_count": 18,
      "outputs": [
        {
          "output_type": "execute_result",
          "data": {
            "text/plain": [
              "((124, 13), (13, 2), (124, 2))"
            ]
          },
          "metadata": {
            "tags": []
          },
          "execution_count": 18
        }
      ]
    },
    {
      "cell_type": "code",
      "metadata": {
        "id": "vwr-C5ou8vCM",
        "colab_type": "code",
        "colab": {
          "base_uri": "https://localhost:8080/",
          "height": 279
        },
        "outputId": "474254fa-0c22-4e64-88a2-ae3374a2de87"
      },
      "source": [
        "\n",
        "colors = ['r', 'b', 'g']\n",
        "markers = ['s', 'x', 'o']\n",
        "for l, c, m in zip(np.unique(y_train), colors, markers):\n",
        "    scatter(X_train_pca[y_train==l, 0], X_train_pca[y_train==l, 1],\n",
        "            c=c, label=l, marker=m)\n",
        "xlabel('PC 1')\n",
        "ylabel('PC 2')\n",
        "legend(loc='lower left')\n",
        "show()"
      ],
      "execution_count": 19,
      "outputs": [
        {
          "output_type": "display_data",
          "data": {
            "image/png": "[encoded data removed]",
            "text/plain": [
              "<Figure size 432x288 with 1 Axes>"
            ]
          },
          "metadata": {
            "tags": [],
            "needs_background": "light"
          }
        }
      ]
    },
    {
      "cell_type": "code",
      "metadata": {
        "id": "CuwL531U8w7-",
        "colab_type": "code",
        "colab": {}
      },
      "source": [
        "from matplotlib.colors import ListedColormap\n",
        "\n",
        "def plot_decision_regions(X, y, classifier, resolution=0.02):\n",
        "    \n",
        "    # setup marker generator and color map\n",
        "    markers = ('s', 'x', 'o', '^', 'v')\n",
        "    colors = ('red', 'blue', 'lightgreen', 'gray', 'cyan')\n",
        "    cmap = ListedColormap(colors[:len(np.unique(y))])\n",
        "\n",
        "    # plot the decision surface\n",
        "    x1_min, x1_max = X[:, 0].min() - 1, X[:, 0].max() + 1\n",
        "    x2_min, x2_max = X[:, 1].min() - 1, X[:, 1].max() + 1\n",
        "    xx1, xx2 = np.meshgrid(np.arange(x1_min, x1_max, resolution),\n",
        "    np.arange(x2_min, x2_max, resolution))\n",
        "    Z = classifier.predict(np.array([xx1.ravel(), xx2.ravel()]).T)\n",
        "    Z = Z.reshape(xx1.shape)\n",
        "    contourf(xx1, xx2, Z, alpha=0.4, cmap=cmap)\n",
        "    xlim(xx1.min(), xx1.max())\n",
        "    ylim(xx2.min(), xx2.max())\n",
        "\n",
        "    # plot class samples\n",
        "    for idx, cl in enumerate(np.unique(y)):\n",
        "        scatter(x=X[y == cl, 0], y=X[y == cl, 1], alpha=0.8, c=cmap(idx),\n",
        "                marker=markers[idx], label=cl)"
      ],
      "execution_count": 0,
      "outputs": []
    },
    {
      "cell_type": "markdown",
      "metadata": {
        "id": "gPiZYdW08899",
        "colab_type": "text"
      },
      "source": [
        "Doing the above steps in PCA"
      ]
    },
    {
      "cell_type": "code",
      "metadata": {
        "id": "A1l9IJUd80ni",
        "colab_type": "code",
        "colab": {
          "base_uri": "https://localhost:8080/",
          "height": 350
        },
        "outputId": "b72999bc-a0e8-4a5d-d6ae-f4fd221ad66b"
      },
      "source": [
        "from sklearn.linear_model import LogisticRegression\n",
        "from sklearn.decomposition import PCA\n",
        "pca = PCA(n_components=2)\n",
        "lr = LogisticRegression()\n",
        "X_train_pca = pca.fit_transform(X_train_std)\n",
        "X_test_pca = pca.transform(X_test_std)\n",
        "lr.fit(X_train_pca, y_train)\n",
        "plot_decision_regions(X_train_pca, y_train, classifier=lr)\n",
        "xlabel('PC1')\n",
        "ylabel('PC2')\n",
        "legend(loc='lower left')\n",
        "show()"
      ],
      "execution_count": 21,
      "outputs": [
        {
          "output_type": "stream",
          "text": [
            "'c' argument looks like a single numeric RGB or RGBA sequence, which should be avoided as value-mapping will have precedence in case its length matches with 'x' & 'y'.  Please use a 2-D array with a single row if you really want to specify the same RGB or RGBA value for all points.\n",
            "'c' argument looks like a single numeric RGB or RGBA sequence, which should be avoided as value-mapping will have precedence in case its length matches with 'x' & 'y'.  Please use a 2-D array with a single row if you really want to specify the same RGB or RGBA value for all points.\n",
            "'c' argument looks like a single numeric RGB or RGBA sequence, which should be avoided as value-mapping will have precedence in case its length matches with 'x' & 'y'.  Please use a 2-D array with a single row if you really want to specify the same RGB or RGBA value for all points.\n"
          ],
          "name": "stderr"
        },
        {
          "output_type": "display_data",
          "data": {
            "image/png": "[encoded data removed]",
            "text/plain": [
              "<Figure size 432x288 with 1 Axes>"
            ]
          },
          "metadata": {
            "tags": [],
            "needs_background": "light"
          }
        }
      ]
    },
    {
      "cell_type": "code",
      "metadata": {
        "id": "oBIJnV_I85JW",
        "colab_type": "code",
        "colab": {}
      },
      "source": [
        ""
      ],
      "execution_count": 0,
      "outputs": []
    },
    {
      "cell_type": "markdown",
      "metadata": {
        "id": "EOfJXMas-hc_",
        "colab_type": "text"
      },
      "source": [
        "LDA Technique\n"
      ]
    },
    {
      "cell_type": "code",
      "metadata": {
        "id": "Cxp2asrI-kaI",
        "colab_type": "code",
        "colab": {}
      },
      "source": [
        "# http://www.bogotobogo.com/python/scikit-learn/scikit_machine_learning_Data_Compresssion_via_Dimensionality_Reduction_2_Linear_Discriminant_Analysis.php"
      ],
      "execution_count": 0,
      "outputs": []
    },
    {
      "cell_type": "code",
      "metadata": {
        "id": "hD2aXTBi-k5L",
        "colab_type": "code",
        "colab": {
          "base_uri": "https://localhost:8080/",
          "height": 34
        },
        "outputId": "85e742c2-1c51-41fe-812b-c103052513a9"
      },
      "source": [
        "from sklearn import datasets\n",
        "from sklearn.decomposition import PCA\n",
        "from sklearn.discriminant_analysis import LinearDiscriminantAnalysis\n",
        "\n",
        "iris = datasets.load_iris()\n",
        "\n",
        "X = iris.data\n",
        "y = iris.target\n",
        "target_names = iris.target_names\n",
        "\n",
        "pca = PCA(n_components=2)\n",
        "X_r = pca.fit(X).transform(X)\n",
        "\n",
        "lda = LinearDiscriminantAnalysis(n_components=2)\n",
        "X_r2 = lda.fit(X, y).transform(X)\n",
        "\n",
        "# Percentage of variance explained for each components\n",
        "print('explained variance ratio (first two components): %s'\n",
        "      % str(pca.explained_variance_ratio_))"
      ],
      "execution_count": 23,
      "outputs": [
        {
          "output_type": "stream",
          "text": [
            "explained variance ratio (first two components): [0.92461872 0.05306648]\n"
          ],
          "name": "stdout"
        }
      ]
    },
    {
      "cell_type": "code",
      "metadata": {
        "id": "LHFXdLTq-pTz",
        "colab_type": "code",
        "colab": {
          "base_uri": "https://localhost:8080/",
          "height": 545
        },
        "outputId": "f1055cd4-abfa-4418-f245-9212cdd64ca7"
      },
      "source": [
        "figure()\n",
        "colors = ['navy', 'turquoise', 'darkorange']\n",
        "lw = 2\n",
        " \n",
        "for color, i, target_name in zip(colors, [0, 1, 2], target_names):\n",
        "    plt.scatter(X_r[y == i, 0], X_r[y == i, 1], color=color, alpha=.8, lw=lw,\n",
        "                label=target_name)\n",
        "\n",
        "legend(loc='best', shadow=False, scatterpoints=1)\n",
        "title('PCA of IRIS dataset')\n",
        "\n",
        "figure()\n",
        "for color, i, target_name in zip(colors, [0, 1, 2], target_names):\n",
        "    plt.scatter(X_r2[y == i, 0], X_r2[y == i, 1], alpha=.8, color=color,\n",
        "                label=target_name)\n",
        "legend(loc='best', shadow=False, scatterpoints=1)\n",
        "title('LDA of IRIS dataset')\n",
        "\n",
        "show()"
      ],
      "execution_count": 24,
      "outputs": [
        {
          "output_type": "display_data",
          "data": {
            "image/png": "[encoded data removed]",
            "text/plain": [
              "<Figure size 432x288 with 1 Axes>"
            ]
          },
          "metadata": {
            "tags": [],
            "needs_background": "light"
          }
        },
        {
          "output_type": "display_data",
          "data": {
            "image/png": "[encoded data removed]",
            "text/plain": [
              "<Figure size 432x288 with 1 Axes>"
            ]
          },
          "metadata": {
            "tags": [],
            "needs_background": "light"
          }
        }
      ]
    },
    {
      "cell_type": "code",
      "metadata": {
        "id": "fCd6r_xZ-u8Q",
        "colab_type": "code",
        "colab": {}
      },
      "source": [
        "import pandas as pd\n",
        "\n",
        "df_wine = pd.read_csv('https://archive.ics.uci.edu/ml/'\n",
        "                      'machine-learning-databases/wine/wine.data',\n",
        "                      header=None)\n",
        "\n",
        "df_wine.columns = ['Class label', 'Alcohol', 'Malic acid', 'Ash',\n",
        "                   'Alcalinity of ash', 'Magnesium', 'Total phenols',\n",
        "                   'Flavanoids', 'Nonflavanoid phenols', 'Proanthocyanins',\n",
        "                   'Color intensity', 'Hue',\n",
        "                   'OD280/OD315 of diluted wines', 'Proline']"
      ],
      "execution_count": 0,
      "outputs": []
    },
    {
      "cell_type": "code",
      "metadata": {
        "id": "bJzuP-X5-4jW",
        "colab_type": "code",
        "colab": {}
      },
      "source": [
        "from sklearn.model_selection import train_test_split\n",
        "from sklearn.preprocessing import StandardScaler\n",
        "\n",
        "X, y = df_wine.iloc[:, 1:].values, df_wine.iloc[:, 0].values\n",
        "\n",
        "X_train, X_test, y_train, y_test = \\\n",
        "    train_test_split(X, y, test_size=0.3, random_state=0)\n",
        "\n",
        "sc = StandardScaler()\n",
        "X_train_std = sc.fit_transform(X_train)\n",
        "X_test_std = sc.transform(X_test)"
      ],
      "execution_count": 0,
      "outputs": []
    },
    {
      "cell_type": "code",
      "metadata": {
        "id": "idtAtaER-6CP",
        "colab_type": "code",
        "colab": {
          "base_uri": "https://localhost:8080/",
          "height": 299
        },
        "outputId": "ad26ad83-257d-42e0-9fcd-f45fcaa7cff4"
      },
      "source": [
        "from math import floor, ceil \n",
        "\n",
        "# the order of the colors for each histogram\n",
        "colors = ('red', 'green', 'blue')\n",
        "\n",
        "# bin width of the histogram in steps of 0.15\n",
        "bins = np.arange(floor(min(X[:,0])), ceil(max(X[:,0])), 0.15)\n",
        "\n",
        "# max count for a particular bin for all classes combined\n",
        "max_bin = max(np.histogram(X[:,0], bins=bins)[0])\n",
        "\n",
        "for label,color in zip(range(1,4), colors):\n",
        "    mean = np.mean(X[:,0][y == label]) # class sample mean\n",
        "    stdev = np.std(X[:,0][y == label]) # class standard deviation\n",
        "    hist(X[:,0][y == label], bins=bins, alpha=0.3, # opacity level\n",
        "             label='class {} ($\\mu={:.2f}$, $\\sigma={:.2f}$)'.format(label, mean, stdev),\n",
        "             color=color)\n",
        "\n",
        "ylim([0, max_bin*1.3])\n",
        "title('Wine data set - Distribution of alocohol contents')\n",
        "xlabel('alcohol by volume', fontsize=14)\n",
        "ylabel('count', fontsize=14)\n",
        "legend(loc='upper right')\n",
        "\n",
        "show()\n"
      ],
      "execution_count": 27,
      "outputs": [
        {
          "output_type": "display_data",
          "data": {
            "image/png": "[encoded data removed]",
            "text/plain": [
              "<Figure size 432x288 with 1 Axes>"
            ]
          },
          "metadata": {
            "tags": [],
            "needs_background": "light"
          }
        }
      ]
    },
    {
      "cell_type": "code",
      "metadata": {
        "id": "ChvIajP3-8g8",
        "colab_type": "code",
        "colab": {
          "base_uri": "https://localhost:8080/",
          "height": 299
        },
        "outputId": "e4341568-b77d-4b60-da0f-c4c775afc55a"
      },
      "source": [
        "from math import floor, ceil \n",
        "\n",
        "# the order of the colors for each histogram\n",
        "colors = ('red', 'green', 'blue')\n",
        "\n",
        "# bin width of the histogram in steps of 0.12\n",
        "bins = np.arange(floor(min(X[:,1])), ceil(max(X[:,1])), 0.12)\n",
        "\n",
        "# max count for a particular bin for all classes combined\n",
        "max_bin = max(np.histogram(X[:,1], bins=bins)[0])\n",
        "\n",
        "for label,color in zip(range(1,4), colors):\n",
        "    mean = np.mean(X[:,1][y == label]) # class sample mean\n",
        "    stdev = np.std(X[:,1][y == label]) # class standard deviation\n",
        "    hist(X[:,1][y == label], bins=bins, alpha=0.3, # opacity level\n",
        "             label='class {} ($\\mu={:.2f}$, $\\sigma={:.2f}$)'.format(label, mean, stdev),\n",
        "             color=color)\n",
        "\n",
        "ylim([0, max_bin])\n",
        "title('Wine data set - Distribution of Malic acid')\n",
        "xlabel('Malic acid by volume', fontsize=14)\n",
        "ylabel('count', fontsize=14)\n",
        "legend(loc='upper right')\n",
        "\n",
        "show()"
      ],
      "execution_count": 28,
      "outputs": [
        {
          "output_type": "display_data",
          "data": {
            "image/png": "[encoded data removed]",
            "text/plain": [
              "<Figure size 432x288 with 1 Axes>"
            ]
          },
          "metadata": {
            "tags": [],
            "needs_background": "light"
          }
        }
      ]
    },
    {
      "cell_type": "code",
      "metadata": {
        "id": "9AUNzb8P_A1v",
        "colab_type": "code",
        "colab": {
          "base_uri": "https://localhost:8080/",
          "height": 170
        },
        "outputId": "5edced54-4456-4002-af18-56b97ccf4ce3"
      },
      "source": [
        "np.set_printoptions(precision=4)\n",
        "\n",
        "mean_vecs = []\n",
        "for label in range(1, 4):\n",
        "    mean_vecs.append(np.mean(X_train_std[y_train == label], axis=0))\n",
        "    print('MV %s: %s\\n' % (label, mean_vecs[label - 1]))"
      ],
      "execution_count": 29,
      "outputs": [
        {
          "output_type": "stream",
          "text": [
            "MV 1: [ 0.9259 -0.3091  0.2592 -0.7989  0.3039  0.9608  1.0515 -0.6306  0.5354\n",
            "  0.2209  0.4855  0.798   1.2017]\n",
            "\n",
            "MV 2: [-0.8727 -0.3854 -0.4437  0.2481 -0.2409 -0.1059  0.0187 -0.0164  0.1095\n",
            " -0.8796  0.4392  0.2776 -0.7016]\n",
            "\n",
            "MV 3: [ 0.1637  0.8929  0.3249  0.5658 -0.01   -0.9499 -1.228   0.7436 -0.7652\n",
            "  0.979  -1.1698 -1.3007 -0.3912]\n",
            "\n"
          ],
          "name": "stdout"
        }
      ]
    },
    {
      "cell_type": "code",
      "metadata": {
        "id": "Z9_Kke7w_Dc_",
        "colab_type": "code",
        "colab": {
          "base_uri": "https://localhost:8080/",
          "height": 136
        },
        "outputId": "034aef39-6ac4-4634-bede-0b5da02ca133"
      },
      "source": [
        "X_train_std"
      ],
      "execution_count": 30,
      "outputs": [
        {
          "output_type": "execute_result",
          "data": {
            "text/plain": [
              "array([[ 0.9108, -0.4626, -0.0114, ...,  0.6571,  1.9435,  0.937 ],\n",
              "       [-0.9561, -0.9661, -1.5373, ..., -0.4086,  0.5812, -1.4134],\n",
              "       [ 0.3595,  1.675 , -0.3747, ..., -1.5595, -1.4485,  0.2868],\n",
              "       ...,\n",
              "       [-0.7055, -0.6834, -0.629 , ...,  0.4439,  0.4978, -1.3061],\n",
              "       [ 1.1489, -0.6216, -0.8833, ..., -0.1955,  1.0121,  0.7745],\n",
              "       [ 1.4747,  0.1116,  0.4245, ..., -1.4316, -1.2399, -0.2821]])"
            ]
          },
          "metadata": {
            "tags": []
          },
          "execution_count": 30
        }
      ]
    },
    {
      "cell_type": "code",
      "metadata": {
        "id": "2935vBHC_Fbo",
        "colab_type": "code",
        "colab": {
          "base_uri": "https://localhost:8080/",
          "height": 34
        },
        "outputId": "15cb598a-c1a8-43b2-ad54-63bd6c6d82c6"
      },
      "source": [
        "d = 13  # number of features\n",
        "S_W = np.zeros((d, d))\n",
        "for label, mv in zip(range(1, 4), mean_vecs):\n",
        "    class_scatter = np.zeros((d, d))  # scatter matrix for each class\n",
        "    for row in X_train_std[y_train == label]:\n",
        "        row, mv = row.reshape(d, 1), mv.reshape(d, 1)  # make column vectors\n",
        "        class_scatter += (row - mv).dot((row - mv).T)\n",
        "    S_W += class_scatter                          # sum class scatter matrices\n",
        "\n",
        "print('Within-class scatter matrix: %sx%s' % (S_W.shape[0], S_W.shape[1]))"
      ],
      "execution_count": 31,
      "outputs": [
        {
          "output_type": "stream",
          "text": [
            "Within-class scatter matrix: 13x13\n"
          ],
          "name": "stdout"
        }
      ]
    },
    {
      "cell_type": "code",
      "metadata": {
        "id": "r6OwTohL_HtB",
        "colab_type": "code",
        "colab": {
          "base_uri": "https://localhost:8080/",
          "height": 34
        },
        "outputId": "dde62f25-d207-456a-f8da-e220e75aef73"
      },
      "source": [
        "print('Class label distribution: %s' % np.bincount(y_train)[1:])\n"
      ],
      "execution_count": 32,
      "outputs": [
        {
          "output_type": "stream",
          "text": [
            "Class label distribution: [40 49 35]\n"
          ],
          "name": "stdout"
        }
      ]
    },
    {
      "cell_type": "code",
      "metadata": {
        "id": "dB6vPjOC_JIU",
        "colab_type": "code",
        "colab": {
          "base_uri": "https://localhost:8080/",
          "height": 34
        },
        "outputId": "af324652-002e-4d21-83cd-cb2c0c5b9f69"
      },
      "source": [
        "d = 13  # number of features\n",
        "S_W = np.zeros((d, d))\n",
        "for label, mv in zip(range(1, 4), mean_vecs):\n",
        "    class_scatter = np.cov(X_train_std[y_train == label].T)\n",
        "    S_W += class_scatter\n",
        "print('Scaled within-class scatter matrix: %sx%s' % (S_W.shape[0],\n",
        "                                                     S_W.shape[1]))"
      ],
      "execution_count": 33,
      "outputs": [
        {
          "output_type": "stream",
          "text": [
            "Scaled within-class scatter matrix: 13x13\n"
          ],
          "name": "stdout"
        }
      ]
    },
    {
      "cell_type": "code",
      "metadata": {
        "id": "qUDyNJGl_Ny4",
        "colab_type": "code",
        "colab": {
          "base_uri": "https://localhost:8080/",
          "height": 34
        },
        "outputId": "5d0d8b66-da4e-4e3d-c3a5-c123730deafa"
      },
      "source": [
        "mean_overall = np.mean(X_train_std, axis=0)\n",
        "d = 13  # number of features\n",
        "S_B = np.zeros((d, d))\n",
        "for i, mean_vec in enumerate(mean_vecs):\n",
        "    n = X_train[y_train == i + 1, :].shape[0]\n",
        "    mean_vec = mean_vec.reshape(d, 1)  # make column vector\n",
        "    mean_overall = mean_overall.reshape(d, 1)  # make column vector\n",
        "    S_B += n * (mean_vec - mean_overall).dot((mean_vec - mean_overall).T)\n",
        "\n",
        "print('Between-class scatter matrix: %sx%s' % (S_B.shape[0], S_B.shape[1]))"
      ],
      "execution_count": 35,
      "outputs": [
        {
          "output_type": "stream",
          "text": [
            "Between-class scatter matrix: 13x13\n"
          ],
          "name": "stdout"
        }
      ]
    },
    {
      "cell_type": "code",
      "metadata": {
        "id": "O9RHUS7hAdTL",
        "colab_type": "code",
        "colab": {
          "base_uri": "https://localhost:8080/",
          "height": 34
        },
        "outputId": "990c0229-a585-4e9c-d6fb-ae1d16dd2ce3"
      },
      "source": [
        "eigen_vals, eigen_vecs = np.linalg.eig(np.linalg.inv(S_W).dot(S_B))\n",
        "eigen_vals.shape, eigen_vecs.shape"
      ],
      "execution_count": 36,
      "outputs": [
        {
          "output_type": "execute_result",
          "data": {
            "text/plain": [
              "((13,), (13, 13))"
            ]
          },
          "metadata": {
            "tags": []
          },
          "execution_count": 36
        }
      ]
    },
    {
      "cell_type": "code",
      "metadata": {
        "id": "-8rmlXikAjX7",
        "colab_type": "code",
        "colab": {
          "base_uri": "https://localhost:8080/",
          "height": 136
        },
        "outputId": "1f0c0638-9025-4f6d-d050-a9a5350517e2"
      },
      "source": [
        "eigen_vals"
      ],
      "execution_count": 37,
      "outputs": [
        {
          "output_type": "execute_result",
          "data": {
            "text/plain": [
              "array([ 0.0000e+00+0.0000e+00j,  1.5644e+02+0.0000e+00j,\n",
              "        4.5272e+02+0.0000e+00j,  4.1024e-14+0.0000e+00j,\n",
              "       -3.8709e-14+0.0000e+00j, -2.4012e-14+2.8248e-14j,\n",
              "       -2.4012e-14-2.8248e-14j, -2.6618e-14+0.0000e+00j,\n",
              "        1.9061e-14+6.4370e-15j,  1.9061e-14-6.4370e-15j,\n",
              "       -1.0839e-14+0.0000e+00j,  6.7937e-15+0.0000e+00j,\n",
              "        7.4193e-16+0.0000e+00j])"
            ]
          },
          "metadata": {
            "tags": []
          },
          "execution_count": 37
        }
      ]
    },
    {
      "cell_type": "code",
      "metadata": {
        "id": "OC4yI8iLAk7B",
        "colab_type": "code",
        "colab": {
          "base_uri": "https://localhost:8080/",
          "height": 272
        },
        "outputId": "32aa4eb2-d114-41ec-f005-45bca56c5215"
      },
      "source": [
        "eigen_pairs = [(np.abs(eigen_vals[i]), eigen_vecs[:,i]) for i in range(len(eigen_vals))]\n",
        "eigen_pairs = sorted(eigen_pairs, key=lambda k: k[0], reverse=True)\n",
        "print('Eigenvalues in decreasing order:\\n')\n",
        "for eigen_val in eigen_pairs:\n",
        "    print(eigen_val[0])"
      ],
      "execution_count": 39,
      "outputs": [
        {
          "output_type": "stream",
          "text": [
            "Eigenvalues in decreasing order:\n",
            "\n",
            "452.7215812449744\n",
            "156.43636121952315\n",
            "4.1024404771578775e-14\n",
            "3.8709492498642465e-14\n",
            "3.70746619342028e-14\n",
            "3.70746619342028e-14\n",
            "2.6617956034781537e-14\n",
            "2.0118798619347737e-14\n",
            "2.0118798619347737e-14\n",
            "1.0839236272107771e-14\n",
            "6.793744707454336e-15\n",
            "7.419339951757085e-16\n",
            "0.0\n"
          ],
          "name": "stdout"
        }
      ]
    },
    {
      "cell_type": "code",
      "metadata": {
        "id": "vAPjfyWPA28K",
        "colab_type": "code",
        "colab": {
          "base_uri": "https://localhost:8080/",
          "height": 279
        },
        "outputId": "29e64a4a-8109-425e-acb9-4eb6d3000f61"
      },
      "source": [
        "\n",
        "tot = sum(eigen_vals.real)\n",
        "discr = [(i / tot) for i in sorted(eigen_vals.real, reverse=True)]\n",
        "cum_discr = np.cumsum(discr)\n",
        "bar(range(1, 14), discr, alpha=0.5, align='center', label='individual \"discriminability\"')\n",
        "step(range(1, 14), cum_discr, where='mid', label='cumulative \"discriminability\"')\n",
        "ylabel('\"discriminability\" ratio')\n",
        "xlabel('Linear Discriminants')\n",
        "ylim([-0.1, 1.1])\n",
        "legend(loc='best')\n",
        "show()"
      ],
      "execution_count": 40,
      "outputs": [
        {
          "output_type": "display_data",
          "data": {
            "image/png": "[encoded data removed]",
            "text/plain": [
              "<Figure size 432x288 with 1 Axes>"
            ]
          },
          "metadata": {
            "tags": [],
            "needs_background": "light"
          }
        }
      ]
    },
    {
      "cell_type": "code",
      "metadata": {
        "id": "vWh56PTvA9aC",
        "colab_type": "code",
        "colab": {
          "base_uri": "https://localhost:8080/",
          "height": 238
        },
        "outputId": "ff51201a-9f41-4a70-abb7-e317cbbd9616"
      },
      "source": [
        "w = np.hstack((eigen_pairs[0][1][:, np.newaxis].real, \n",
        "               eigen_pairs[1][1][:, np.newaxis].real))\n",
        "w"
      ],
      "execution_count": 41,
      "outputs": [
        {
          "output_type": "execute_result",
          "data": {
            "text/plain": [
              "array([[-0.0662, -0.3797],\n",
              "       [ 0.0386, -0.2206],\n",
              "       [-0.0217, -0.3816],\n",
              "       [ 0.184 ,  0.3018],\n",
              "       [-0.0034,  0.0141],\n",
              "       [ 0.2326,  0.0234],\n",
              "       [-0.7747,  0.1869],\n",
              "       [-0.0811,  0.0696],\n",
              "       [ 0.0875,  0.1796],\n",
              "       [ 0.185 , -0.284 ],\n",
              "       [-0.066 ,  0.2349],\n",
              "       [-0.3805,  0.073 ],\n",
              "       [-0.3285, -0.5971]])"
            ]
          },
          "metadata": {
            "tags": []
          },
          "execution_count": 41
        }
      ]
    },
    {
      "cell_type": "code",
      "metadata": {
        "id": "O8KSrOeLA_v_",
        "colab_type": "code",
        "colab": {}
      },
      "source": [
        "X_train_lda = X_train_std.dot(w)\n"
      ],
      "execution_count": 0,
      "outputs": []
    },
    {
      "cell_type": "code",
      "metadata": {
        "id": "vBLL2jQ1BBGp",
        "colab_type": "code",
        "colab": {
          "base_uri": "https://localhost:8080/",
          "height": 295
        },
        "outputId": "7411218d-19da-4545-9167-223d52abb449"
      },
      "source": [
        "from sklearn.discriminant_analysis import LinearDiscriminantAnalysis\n",
        "\n",
        "sklearn_lda = LinearDiscriminantAnalysis(n_components=2)\n",
        "transf_lda = sklearn_lda.fit_transform(X_train, y_train)\n",
        "\n",
        "for label,marker,color in zip(range(1,4),('x', 'o', '^'),('red', 'green', 'blue')):\n",
        "    scatter(x=transf_lda[:,0][y_train == label],\n",
        "                y=transf_lda[:,1][y_train == label],\n",
        "                marker=marker, color=color,\n",
        "                alpha=0.7, label='class {}'.format(label))\n",
        "\n",
        "xlabel('vector 1')\n",
        "ylabel('vector 2')\n",
        "\n",
        "legend(loc='lower right')\n",
        "title('Most significant singular vectors after linear transformation via LDA')\n",
        "\n",
        "show()"
      ],
      "execution_count": 43,
      "outputs": [
        {
          "output_type": "display_data",
          "data": {
            "image/png": "[encoded data removed]",
            "text/plain": [
              "<Figure size 432x288 with 1 Axes>"
            ]
          },
          "metadata": {
            "tags": [],
            "needs_background": "light"
          }
        }
      ]
    },
    {
      "cell_type": "code",
      "metadata": {
        "id": "TppZo2d9BCrI",
        "colab_type": "code",
        "colab": {}
      },
      "source": [
        ""
      ],
      "execution_count": 0,
      "outputs": []
    }
  ]
}