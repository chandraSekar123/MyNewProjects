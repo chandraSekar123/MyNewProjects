{
  "nbformat": 4,
  "nbformat_minor": 0,
  "metadata": {
    "colab": {
      "name": "KNN algorithm.ipynb",
      "provenance": [],
      "authorship_tag": "ABX9TyPGUluuqL8WEpoaGPDo6GJC",
      "include_colab_link": true
    },
    "kernelspec": {
      "name": "python3",
      "display_name": "Python 3"
    }
  },
  "cells": [
    {
      "cell_type": "markdown",
      "metadata": {
        "id": "view-in-github",
        "colab_type": "text"
      },
      "source": [
        "<a href=\"https://colab.research.google.com/github/chandraSekar123/MyNewProjects/blob/master/KNN_algorithm.ipynb\" target=\"_parent\"><img src=\"https://colab.research.google.com/assets/colab-badge.svg\" alt=\"Open In Colab\"/></a>"
      ]
    },
    {
      "cell_type": "code",
      "metadata": {
        "id": "47FRcXzoNWWv",
        "colab_type": "code",
        "colab": {}
      },
      "source": [
        "#Import scikit-learn dataset library\n",
        "from sklearn import datasets\n",
        "\n",
        "#Load dataset\n",
        "wine = datasets.load_wine()"
      ],
      "execution_count": 0,
      "outputs": []
    },
    {
      "cell_type": "code",
      "metadata": {
        "id": "7B_vPhZAOD6k",
        "colab_type": "code",
        "outputId": "8b46574d-9dc8-4131-afec-989b64054ec8",
        "colab": {
          "base_uri": "https://localhost:8080/",
          "height": 54
        }
      },
      "source": [
        "# print the names of the features\n",
        "print(wine.feature_names)"
      ],
      "execution_count": 0,
      "outputs": [
        {
          "output_type": "stream",
          "text": [
            "['alcohol', 'malic_acid', 'ash', 'alcalinity_of_ash', 'magnesium', 'total_phenols', 'flavanoids', 'nonflavanoid_phenols', 'proanthocyanins', 'color_intensity', 'hue', 'od280/od315_of_diluted_wines', 'proline']\n"
          ],
          "name": "stdout"
        }
      ]
    },
    {
      "cell_type": "code",
      "metadata": {
        "id": "RiICrntiOFib",
        "colab_type": "code",
        "outputId": "c8b66cbd-3f9e-4639-8572-d63984e5486e",
        "colab": {
          "base_uri": "https://localhost:8080/",
          "height": 34
        }
      },
      "source": [
        "# print the label species(class_0, class_1, class_2)\n",
        "print(wine.target_names)"
      ],
      "execution_count": 0,
      "outputs": [
        {
          "output_type": "stream",
          "text": [
            "['class_0' 'class_1' 'class_2']\n"
          ],
          "name": "stdout"
        }
      ]
    },
    {
      "cell_type": "code",
      "metadata": {
        "id": "LW7tW7L8OG-7",
        "colab_type": "code",
        "outputId": "e6bd9ba9-9c43-4748-affa-3d1da0f1e895",
        "colab": {
          "base_uri": "https://localhost:8080/",
          "height": 187
        }
      },
      "source": [
        "# print the wine data (top 5 records)\n",
        "print(wine.data[0:5])"
      ],
      "execution_count": 0,
      "outputs": [
        {
          "output_type": "stream",
          "text": [
            "[[1.423e+01 1.710e+00 2.430e+00 1.560e+01 1.270e+02 2.800e+00 3.060e+00\n",
            "  2.800e-01 2.290e+00 5.640e+00 1.040e+00 3.920e+00 1.065e+03]\n",
            " [1.320e+01 1.780e+00 2.140e+00 1.120e+01 1.000e+02 2.650e+00 2.760e+00\n",
            "  2.600e-01 1.280e+00 4.380e+00 1.050e+00 3.400e+00 1.050e+03]\n",
            " [1.316e+01 2.360e+00 2.670e+00 1.860e+01 1.010e+02 2.800e+00 3.240e+00\n",
            "  3.000e-01 2.810e+00 5.680e+00 1.030e+00 3.170e+00 1.185e+03]\n",
            " [1.437e+01 1.950e+00 2.500e+00 1.680e+01 1.130e+02 3.850e+00 3.490e+00\n",
            "  2.400e-01 2.180e+00 7.800e+00 8.600e-01 3.450e+00 1.480e+03]\n",
            " [1.324e+01 2.590e+00 2.870e+00 2.100e+01 1.180e+02 2.800e+00 2.690e+00\n",
            "  3.900e-01 1.820e+00 4.320e+00 1.040e+00 2.930e+00 7.350e+02]]\n"
          ],
          "name": "stdout"
        }
      ]
    },
    {
      "cell_type": "code",
      "metadata": {
        "id": "piAmZKGHOJpA",
        "colab_type": "code",
        "outputId": "78f52e36-06e9-4ec1-c43e-9d638a7b2dbb",
        "colab": {
          "base_uri": "https://localhost:8080/",
          "height": 102
        }
      },
      "source": [
        "# print the wine labels (0:Class_0, 1:Class_1, 2:Class_3)\n",
        "print(wine.target)"
      ],
      "execution_count": 0,
      "outputs": [
        {
          "output_type": "stream",
          "text": [
            "[0 0 0 0 0 0 0 0 0 0 0 0 0 0 0 0 0 0 0 0 0 0 0 0 0 0 0 0 0 0 0 0 0 0 0 0 0\n",
            " 0 0 0 0 0 0 0 0 0 0 0 0 0 0 0 0 0 0 0 0 0 0 1 1 1 1 1 1 1 1 1 1 1 1 1 1 1\n",
            " 1 1 1 1 1 1 1 1 1 1 1 1 1 1 1 1 1 1 1 1 1 1 1 1 1 1 1 1 1 1 1 1 1 1 1 1 1\n",
            " 1 1 1 1 1 1 1 1 1 1 1 1 1 1 1 1 1 1 1 2 2 2 2 2 2 2 2 2 2 2 2 2 2 2 2 2 2\n",
            " 2 2 2 2 2 2 2 2 2 2 2 2 2 2 2 2 2 2 2 2 2 2 2 2 2 2 2 2 2 2]\n"
          ],
          "name": "stdout"
        }
      ]
    },
    {
      "cell_type": "code",
      "metadata": {
        "id": "9UNtCD0HOLg9",
        "colab_type": "code",
        "outputId": "c3a7dc63-4888-4066-fc08-8c9a0246bce2",
        "colab": {
          "base_uri": "https://localhost:8080/",
          "height": 34
        }
      },
      "source": [
        "# print data(feature)shape\n",
        "print(wine.data.shape)"
      ],
      "execution_count": 0,
      "outputs": [
        {
          "output_type": "stream",
          "text": [
            "(178, 13)\n"
          ],
          "name": "stdout"
        }
      ]
    },
    {
      "cell_type": "code",
      "metadata": {
        "id": "_10O1W28OOI2",
        "colab_type": "code",
        "outputId": "10c7c2f0-6a23-4512-ed47-a1fef4317784",
        "colab": {
          "base_uri": "https://localhost:8080/",
          "height": 34
        }
      },
      "source": [
        "# print target(or label)shape\n",
        "print(wine.target.shape)"
      ],
      "execution_count": 0,
      "outputs": [
        {
          "output_type": "stream",
          "text": [
            "(178,)\n"
          ],
          "name": "stdout"
        }
      ]
    },
    {
      "cell_type": "code",
      "metadata": {
        "id": "FUUq7uGQOPeR",
        "colab_type": "code",
        "colab": {}
      },
      "source": [
        "# Import train_test_split function\n",
        "from sklearn.model_selection import train_test_split\n",
        "\n",
        "# Split dataset into training set and test set\n",
        "X_train, X_test, y_train, y_test = train_test_split(wine.data, wine.target, test_size=0.3) # 70% training and 30% test\n"
      ],
      "execution_count": 0,
      "outputs": []
    },
    {
      "cell_type": "code",
      "metadata": {
        "id": "Xf1RqViKOS-h",
        "colab_type": "code",
        "colab": {}
      },
      "source": [
        "#Import knearest neighbors Classifier model\n",
        "from sklearn.neighbors import KNeighborsClassifier\n",
        "\n",
        "#Create KNN Classifier\n",
        "knn = KNeighborsClassifier(n_neighbors=5)\n",
        "\n",
        "#Train the model using the training sets\n",
        "knn.fit(X_train, y_train)\n",
        "\n",
        "#Predict the response for test dataset\n",
        "y_pred = knn.predict(X_test)"
      ],
      "execution_count": 0,
      "outputs": []
    },
    {
      "cell_type": "code",
      "metadata": {
        "id": "sfkE8JJ6OWzo",
        "colab_type": "code",
        "outputId": "6c83901a-d612-4bdb-a945-5802290210fc",
        "colab": {
          "base_uri": "https://localhost:8080/",
          "height": 34
        }
      },
      "source": [
        "#Import scikit-learn metrics module for accuracy calculation\n",
        "from sklearn import metrics\n",
        "# Model Accuracy, how often is the classifier correct?\n",
        "print(\"Accuracy:\",metrics.accuracy_score(y_test, y_pred))"
      ],
      "execution_count": 0,
      "outputs": [
        {
          "output_type": "stream",
          "text": [
            "Accuracy: 0.6851851851851852\n"
          ],
          "name": "stdout"
        }
      ]
    },
    {
      "cell_type": "markdown",
      "metadata": {
        "id": "ne5Kl8ITOcaT",
        "colab_type": "text"
      },
      "source": [
        "Re-generating Model for K=7"
      ]
    },
    {
      "cell_type": "code",
      "metadata": {
        "id": "bajBFH24OaKo",
        "colab_type": "code",
        "colab": {}
      },
      "source": [
        "#Import knearest neighbors Classifier model\n",
        "from sklearn.neighbors import KNeighborsClassifier\n",
        "\n",
        "#Create KNN Classifier\n",
        "knn = KNeighborsClassifier(n_neighbors=7)\n",
        "\n",
        "#Train the model using the training sets\n",
        "knn.fit(X_train, y_train)\n",
        "\n",
        "#Predict the response for test dataset\n",
        "y_pred = knn.predict(X_test)"
      ],
      "execution_count": 0,
      "outputs": []
    },
    {
      "cell_type": "markdown",
      "metadata": {
        "id": "p4aNImisOfKR",
        "colab_type": "text"
      },
      "source": [
        "Model Evaluation for k=7\n"
      ]
    },
    {
      "cell_type": "code",
      "metadata": {
        "id": "nFEz07-dOhoj",
        "colab_type": "code",
        "outputId": "d983bd39-a225-4b18-d184-e82f5c624080",
        "colab": {
          "base_uri": "https://localhost:8080/",
          "height": 34
        }
      },
      "source": [
        "#Import scikit-learn metrics module for accuracy calculation\n",
        "from sklearn import metrics\n",
        "# Model Accuracy, how often is the classifier correct?\n",
        "print(\"Accuracy:\",metrics.accuracy_score(y_test, y_pred))"
      ],
      "execution_count": 0,
      "outputs": [
        {
          "output_type": "stream",
          "text": [
            "Accuracy: 0.6666666666666666\n"
          ],
          "name": "stdout"
        }
      ]
    },
    {
      "cell_type": "code",
      "metadata": {
        "id": "0dJt1p_yOjeO",
        "colab_type": "code",
        "outputId": "a537f358-9a85-419c-d08a-38f751d44703",
        "colab": {
          "base_uri": "https://localhost:8080/",
          "height": 34
        }
      },
      "source": [
        "K=[* range(1,10)]\n",
        "print(K)"
      ],
      "execution_count": 0,
      "outputs": [
        {
          "output_type": "stream",
          "text": [
            "[1, 2, 3, 4, 5, 6, 7, 8, 9]\n"
          ],
          "name": "stdout"
        }
      ]
    },
    {
      "cell_type": "code",
      "metadata": {
        "id": "j8BgZ8FyOtP3",
        "colab_type": "code",
        "outputId": "d134504f-218a-40d0-fee6-104c32ab97f4",
        "colab": {
          "base_uri": "https://localhost:8080/",
          "height": 51
        }
      },
      "source": [
        "### calculating accuracy for every k value\n",
        "parent_accuracy=[]\n",
        "parent_K=[]\n",
        "for k in K:\n",
        "  knn = KNeighborsClassifier(n_neighbors=k)\n",
        "  knn.fit(X_train, y_train)\n",
        "  y_pred = knn.predict(X_test)\n",
        "  accur=metrics.accuracy_score(y_test, y_pred)\n",
        "  parent_accuracy.append(round(accur,2))\n",
        "  parent_K.append(k)\n",
        "\n",
        "print(parent_accuracy)\n",
        "\n",
        "print(parent_K)\n",
        "\n",
        "\n",
        "\n"
      ],
      "execution_count": 0,
      "outputs": [
        {
          "output_type": "stream",
          "text": [
            "[0.67, 0.59, 0.65, 0.63, 0.69, 0.69, 0.67, 0.67, 0.69]\n",
            "[1, 2, 3, 4, 5, 6, 7, 8, 9]\n"
          ],
          "name": "stdout"
        }
      ]
    },
    {
      "cell_type": "code",
      "metadata": {
        "id": "YDDTSnmmPmYc",
        "colab_type": "code",
        "outputId": "7b9213d4-6730-47e2-aa82-bd0fe37f6f10",
        "colab": {
          "base_uri": "https://localhost:8080/",
          "height": 265
        }
      },
      "source": [
        "## plotting \n",
        "import matplotlib.pyplot as plt\n",
        "\n",
        "plt.plot(parent_K,parent_accuracy)\n",
        "plt.show()"
      ],
      "execution_count": 0,
      "outputs": [
        {
          "output_type": "display_data",
          "data": {
            "image/png": "[encoded data removed]",
            "text/plain": [
              "<Figure size 432x288 with 1 Axes>"
            ]
          },
          "metadata": {
            "tags": [],
            "needs_background": "light"
          }
        }
      ]
    },
    {
      "cell_type": "markdown",
      "metadata": {
        "id": "ovzz0ymWRKmC",
        "colab_type": "text"
      },
      "source": [
        "Retraining the model with standard scalar"
      ]
    },
    {
      "cell_type": "code",
      "metadata": {
        "id": "rzwYWYqKQYW3",
        "colab_type": "code",
        "colab": {}
      },
      "source": [
        "#feature Scaling  \n",
        "from sklearn.preprocessing import StandardScaler    \n",
        "st_x= StandardScaler()    \n",
        "X_train= st_x.fit_transform(X_train)    \n",
        "X_test= st_x.transform(X_test)  "
      ],
      "execution_count": 0,
      "outputs": []
    },
    {
      "cell_type": "code",
      "metadata": {
        "id": "NhukrNoRQ0_q",
        "colab_type": "code",
        "outputId": "61d4aece-43e8-4b8e-9552-90d6467f9bb7",
        "colab": {
          "base_uri": "https://localhost:8080/",
          "height": 51
        }
      },
      "source": [
        "### calculating accuracy for every k value\n",
        "parent_accuracy=[]\n",
        "parent_K=[]\n",
        "for k in K:\n",
        "  knn = KNeighborsClassifier(n_neighbors=k,metric='manhattan',algorithm=\"ball_tree\", leaf_size=30)\n",
        "  \n",
        "  knn.fit(X_train, y_train)\n",
        "  y_pred = knn.predict(X_test)\n",
        "  #print(y_pred[0])\n",
        "  accur=metrics.accuracy_score(y_test, y_pred)\n",
        "  parent_accuracy.append(round(accur,2))\n",
        "  parent_K.append(k)\n",
        "\n",
        "print(parent_accuracy)\n",
        "\n",
        "print(parent_K)\n",
        "\n"
      ],
      "execution_count": 0,
      "outputs": [
        {
          "output_type": "stream",
          "text": [
            "[0.37, 0.37, 0.37, 0.37, 0.37, 0.37, 0.37, 0.37, 0.37]\n",
            "[1, 2, 3, 4, 5, 6, 7, 8, 9]\n"
          ],
          "name": "stdout"
        }
      ]
    },
    {
      "cell_type": "code",
      "metadata": {
        "id": "pDmXrYdTRlMo",
        "colab_type": "code",
        "outputId": "7d7bef14-e3d2-400d-a8bc-5dd18de57968",
        "colab": {
          "base_uri": "https://localhost:8080/",
          "height": 267
        }
      },
      "source": [
        "## plotting \n",
        "import matplotlib.pyplot as plt\n",
        "\n",
        "plt.plot(parent_K,parent_accuracy)\n",
        "plt.show()"
      ],
      "execution_count": 0,
      "outputs": [
        {
          "output_type": "display_data",
          "data": {
            "image/png": "[encoded data removed]",
            "text/plain": [
              "<Figure size 432x288 with 1 Axes>"
            ]
          },
          "metadata": {
            "tags": [],
            "needs_background": "light"
          }
        }
      ]
    },
    {
      "cell_type": "code",
      "metadata": {
        "id": "b2ZlpCFFRnRW",
        "colab_type": "code",
        "colab": {}
      },
      "source": [
        ""
      ],
      "execution_count": 0,
      "outputs": []
    }
  ]
}